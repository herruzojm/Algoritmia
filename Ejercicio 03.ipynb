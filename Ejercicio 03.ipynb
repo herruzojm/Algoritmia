{
 "cells": [
  {
   "cell_type": "code",
   "execution_count": 17,
   "metadata": {
    "collapsed": true,
    "deletable": true,
    "editable": true
   },
   "outputs": [],
   "source": [
    "def recurrence_generator(coefficients, function, init):\n",
    "   \n",
    "    resultado = []\n",
    "    iteracion = 0\n",
    "    \n",
    "    for valor_inicial in init:\n",
    "        resultado.append(valor_inicial)\n",
    "        iteracion = iteracion + 1\n",
    "        yield valor_inicial\n",
    "    \n",
    "    while True:\n",
    "        valor = 0\n",
    "        for indice, coeficiente in enumerate(coefficients):            \n",
    "            valor = valor + coeficiente * resultado[-1*indice-1]\n",
    "        valor = valor + function(iteracion)        \n",
    "        resultado.append(valor)\n",
    "        iteracion = iteracion + 1\n",
    "        yield valor\n",
    "        "
   ]
  },
  {
   "cell_type": "code",
   "execution_count": 22,
   "metadata": {
    "collapsed": false,
    "deletable": true,
    "editable": true
   },
   "outputs": [],
   "source": [
    "class master_recurrence: \n",
    "        \n",
    "    def __init__(self, a, b, k, init = 0):\n",
    "        self._a = a\n",
    "        self._b = b\n",
    "        self._k = k\n",
    "        self._inicial = init\n",
    "        \n",
    "    def master_method(self):        \n",
    "        if self._a < pow(self._b, self._k):\n",
    "            return \"O(n^\" + str(self._k) + \")\"\n",
    "        elif self._a == pow(self._b, self._k):\n",
    "            return \"O(n^\" + str(self._k) + \"*log(n))\"\n",
    "        else:\n",
    "            return \"O(n^\" + str(log(self._a, self._b)) + \")\"\n",
    "       \n",
    "    def __iter__(self):           \n",
    "        resultado = []\n",
    "        iteracion = 0\n",
    "        \n",
    "        resultado.append(self._inicial)\n",
    "        iteracion = iteracion + 1\n",
    "        yield self._inicial       \n",
    "        \n",
    "        while True:\n",
    "            valor = int(resultado[ int(iteracion/self._b)] * self._a + pow(iteracion, self._k))\n",
    "            resultado.append(valor)\n",
    "            yield valor \n",
    "            iteracion = iteracion + 1\n",
    "    \n",
    "    def __str__(self):\n",
    "        return str(self._a) + \"T(n/\" + str(self._b) + \")+n^\" + str(self._k)\n",
    "    \n",
    "    def __eq__(self, other):\n",
    "        return (self._a == other._a and self._b == other._b and self._k == other._k and self._inicial == other._inicial)\n",
    "        \n",
    "    def __ne__(self, other):\n",
    "        return not self.__eq__(other)\n",
    "    \n",
    "    def __getitem__(self, key):\n",
    "        resultado = self._inicial  \n",
    "        i = 0\n",
    "        for valor in self:\n",
    "            resultado = valor            \n",
    "            if i == key:\n",
    "                break\n",
    "            i = i + 1\n",
    "                \n",
    "        return resultado        \n",
    "        "
   ]
  }
 ],
 "metadata": {
  "anaconda-cloud": {},
  "kernelspec": {
   "display_name": "Python 3",
   "language": "python",
   "name": "python3"
  },
  "language_info": {
   "codemirror_mode": {
    "name": "ipython",
    "version": 3
   },
   "file_extension": ".py",
   "mimetype": "text/x-python",
   "name": "python",
   "nbconvert_exporter": "python",
   "pygments_lexer": "ipython3",
   "version": "3.6.0"
  }
 },
 "nbformat": 4,
 "nbformat_minor": 1
}
