{
 "cells": [
  {
   "cell_type": "code",
   "execution_count": 1,
   "metadata": {
    "collapsed": false,
    "deletable": true,
    "editable": true
   },
   "outputs": [],
   "source": [
    "def orden_optimo_producto (d):    \n",
    "    n= len (d) -1\n",
    "    m =[[0 for i in range (n +1) ] for i in range (n+1) ]\n",
    "    # recorremos las diagonales , desde s=1 hasta s=n -1\n",
    "    for s in range (1 ,n):\n",
    "        for i in range (1 ,n-s +1) :\n",
    "        # optimizacion del parentizado para m[i][i+s]\n",
    "            for k in range (i,i+s):\n",
    "                n_prod = m[i][k] + m[k +1][ i+s] + d[i -1]* d[k]*d[i+s]\n",
    "                if k==i or n_prod < minimo :\n",
    "                    minimo = n_prod\n",
    "            m[i][i+s]= minimo        \n",
    "    return m #resultado esta en m [1][ n]"
   ]
  },
  {
   "cell_type": "code",
   "execution_count": 2,
   "metadata": {
    "collapsed": false,
    "deletable": true,
    "editable": true
   },
   "outputs": [
    {
     "name": "stdout",
     "output_type": "stream",
     "text": [
      "[[0, 0, 0, 0, 0, 0], [0, 0, 441, 224, 296, 380], [0, 0, 0, 98, 154, 230], [0, 0, 0, 0, 56, 132], [0, 0, 0, 0, 0, 48], [0, 0, 0, 0, 0, 0]]\n",
      "380\n"
     ]
    }
   ],
   "source": [
    "#Para las matrices 9x7(m1) 7x7(m2) 7x2(m3) 2x4(m4) 4x6(m5)\n",
    "d = [9,7,7,2,4,6]\n",
    "\n",
    "a = orden_optimo_producto(d)\n",
    "\n",
    "print(a)\n",
    "print(a[1][len(d)-1])"
   ]
  },
  {
   "cell_type": "code",
   "execution_count": 36,
   "metadata": {
    "collapsed": false,
    "deletable": true,
    "editable": true
   },
   "outputs": [],
   "source": [
    "import numpy as np\n",
    "\n",
    "def gk(i,j):\n",
    "    return str(i)+','+str(j)\n",
    "\n",
    "def matrix_chain_order(p):\n",
    "    n = len(p)-1\n",
    "    m,s = {}, {}\n",
    "    s = {}    \n",
    "    m =[[0 for i in range (n +1) ] for i in range (n+1) ]\n",
    "    for i in range(1, n+1):        \n",
    "        m[i][i]=0\n",
    "    for l in range(2, n+1):\n",
    "        for i in range(1, n-l+2):\n",
    "            j = i+l-1            \n",
    "            m[i][j] = -1\n",
    "            for k in range(i, j):    \n",
    "                print('l', l, ' i', i, ' j', j, ' k', k)\n",
    "                q = m[i][k] + m[k+1][j] + p[i-1]*p[k]*p[j]  \n",
    "                print('q = ', m[i][k], '+', m[k+1][j], '+(',p[i-1],'*',p[k],'*',p[j],') = ', q)\n",
    "                if q<m[i][j] or m[i][j] < 0:  \n",
    "                    print('nuevo valor para m[',i,',',j,']')                    \n",
    "                    m[i][j]=q\n",
    "                    s[gk(i, j)] = k\n",
    "        print()        \n",
    "        print(np.array(m))\n",
    "        print()\n",
    "    return m, s\n",
    "\n",
    "def imprimir(datos):\n",
    "    longitud = len(datos)\n",
    "    matriz = np.zeros((longitud+1, longitud+1))\n",
    "    for fila, columna in datos:\n",
    "        matriz[fila-1][columna-1] = datos[fila, columna] \n",
    "    print(matriz)        \n",
    "    print()\n",
    "\n",
    "def get_optimal_parens(s, i, j):\n",
    "    res = ''\n",
    "    if i == j:\n",
    "        return \"M_\"+str(j)\n",
    "    else:\n",
    "        res += \"(\"\n",
    "        res += get_optimal_parens(s, i, s[gk(i, j)])+\"*\"\n",
    "        res += get_optimal_parens(s, s[gk(i, j)]+1, j)\n",
    "        res +=  \")\"\n",
    "        return res"
   ]
  },
  {
   "cell_type": "code",
   "execution_count": 37,
   "metadata": {
    "collapsed": false,
    "deletable": true,
    "editable": true
   },
   "outputs": [
    {
     "name": "stdout",
     "output_type": "stream",
     "text": [
      "l 2  i 1  j 2  k 1\n",
      "q =  0 + 0 +( 9 * 7 * 7 ) =  441\n",
      "nuevo valor para m[ 1 , 2 ]\n",
      "l 2  i 2  j 3  k 2\n",
      "q =  0 + 0 +( 7 * 7 * 2 ) =  98\n",
      "nuevo valor para m[ 2 , 3 ]\n",
      "l 2  i 3  j 4  k 3\n",
      "q =  0 + 0 +( 7 * 2 * 4 ) =  56\n",
      "nuevo valor para m[ 3 , 4 ]\n",
      "l 2  i 4  j 5  k 4\n",
      "q =  0 + 0 +( 2 * 4 * 6 ) =  48\n",
      "nuevo valor para m[ 4 , 5 ]\n",
      "\n",
      "[[  0   0   0   0   0   0]\n",
      " [  0   0 441   0   0   0]\n",
      " [  0   0   0  98   0   0]\n",
      " [  0   0   0   0  56   0]\n",
      " [  0   0   0   0   0  48]\n",
      " [  0   0   0   0   0   0]]\n",
      "\n",
      "l 3  i 1  j 3  k 1\n",
      "q =  0 + 98 +( 9 * 7 * 2 ) =  224\n",
      "nuevo valor para m[ 1 , 3 ]\n",
      "l 3  i 1  j 3  k 2\n",
      "q =  441 + 0 +( 9 * 7 * 2 ) =  567\n",
      "l 3  i 2  j 4  k 2\n",
      "q =  0 + 56 +( 7 * 7 * 4 ) =  252\n",
      "nuevo valor para m[ 2 , 4 ]\n",
      "l 3  i 2  j 4  k 3\n",
      "q =  98 + 0 +( 7 * 2 * 4 ) =  154\n",
      "nuevo valor para m[ 2 , 4 ]\n",
      "l 3  i 3  j 5  k 3\n",
      "q =  0 + 48 +( 7 * 2 * 6 ) =  132\n",
      "nuevo valor para m[ 3 , 5 ]\n",
      "l 3  i 3  j 5  k 4\n",
      "q =  56 + 0 +( 7 * 4 * 6 ) =  224\n",
      "\n",
      "[[  0   0   0   0   0   0]\n",
      " [  0   0 441 224   0   0]\n",
      " [  0   0   0  98 154   0]\n",
      " [  0   0   0   0  56 132]\n",
      " [  0   0   0   0   0  48]\n",
      " [  0   0   0   0   0   0]]\n",
      "\n",
      "l 4  i 1  j 4  k 1\n",
      "q =  0 + 154 +( 9 * 7 * 4 ) =  406\n",
      "nuevo valor para m[ 1 , 4 ]\n",
      "l 4  i 1  j 4  k 2\n",
      "q =  441 + 56 +( 9 * 7 * 4 ) =  749\n",
      "l 4  i 1  j 4  k 3\n",
      "q =  224 + 0 +( 9 * 2 * 4 ) =  296\n",
      "nuevo valor para m[ 1 , 4 ]\n",
      "l 4  i 2  j 5  k 2\n",
      "q =  0 + 132 +( 7 * 7 * 6 ) =  426\n",
      "nuevo valor para m[ 2 , 5 ]\n",
      "l 4  i 2  j 5  k 3\n",
      "q =  98 + 48 +( 7 * 2 * 6 ) =  230\n",
      "nuevo valor para m[ 2 , 5 ]\n",
      "l 4  i 2  j 5  k 4\n",
      "q =  154 + 0 +( 7 * 4 * 6 ) =  322\n",
      "\n",
      "[[  0   0   0   0   0   0]\n",
      " [  0   0 441 224 296   0]\n",
      " [  0   0   0  98 154 230]\n",
      " [  0   0   0   0  56 132]\n",
      " [  0   0   0   0   0  48]\n",
      " [  0   0   0   0   0   0]]\n",
      "\n",
      "l 5  i 1  j 5  k 1\n",
      "q =  0 + 230 +( 9 * 7 * 6 ) =  608\n",
      "nuevo valor para m[ 1 , 5 ]\n",
      "l 5  i 1  j 5  k 2\n",
      "q =  441 + 132 +( 9 * 7 * 6 ) =  951\n",
      "l 5  i 1  j 5  k 3\n",
      "q =  224 + 48 +( 9 * 2 * 6 ) =  380\n",
      "nuevo valor para m[ 1 , 5 ]\n",
      "l 5  i 1  j 5  k 4\n",
      "q =  296 + 0 +( 9 * 4 * 6 ) =  512\n",
      "\n",
      "[[  0   0   0   0   0   0]\n",
      " [  0   0 441 224 296 380]\n",
      " [  0   0   0  98 154 230]\n",
      " [  0   0   0   0  56 132]\n",
      " [  0   0   0   0   0  48]\n",
      " [  0   0   0   0   0   0]]\n",
      "\n",
      "********\n",
      "RESULTADO\n",
      "[[  0   0   0   0   0   0]\n",
      " [  0   0 441 224 296 380]\n",
      " [  0   0   0  98 154 230]\n",
      " [  0   0   0   0  56 132]\n",
      " [  0   0   0   0   0  48]\n",
      " [  0   0   0   0   0   0]]\n",
      "********\n",
      "{'3,5': 3, '2,4': 3, '3,4': 3, '1,2': 1, '1,4': 3, '1,5': 3, '1,3': 1, '2,3': 2, '2,5': 3, '4,5': 4}\n",
      "********\n",
      "multiplicaciones necesarias\n",
      "380\n",
      "formula en texto\n",
      "(M_1*(M_2*M_3))*(M_4*M_5)\n"
     ]
    }
   ],
   "source": [
    "d = [9,7,7,2,4,6]\n",
    "\n",
    "m, s = matrix_chain_order(d)\n",
    "\n",
    "print('********')\n",
    "print('RESULTADO')\n",
    "print(np.array(m))\n",
    "print('********')\n",
    "print(s)\n",
    "print('********')\n",
    "print('multiplicaciones necesarias')\n",
    "print(m[1][len(d)-1])\n",
    "\n",
    "print('formula en texto')\n",
    "texto = get_optimal_parens(s, 1, len(d)-1)\n",
    "print(texto[1:len(texto)-1])"
   ]
  },
  {
   "cell_type": "code",
   "execution_count": 85,
   "metadata": {
    "collapsed": false,
    "deletable": true,
    "editable": true
   },
   "outputs": [
    {
     "name": "stdout",
     "output_type": "stream",
     "text": [
      "cosa:  [1, 2, 3, 4, 5, 6, 7, 1, 2, 3, 4, 5, 6, 6, 7, 1, 2, 3, 4, 4, 5, 7, 1, 4, 2, 4, 3, 4, 4, 1, 4, 2, 3, 4, 3, 4, 1, 3, 4, 2, 4, 1, 4]\n",
      "[[0, 0, 0, 0, 0, 0, 0, 0, 0], [0, 0, 407682, 512517, 269496, 292068, 319986, 455418, 498402], [0, 0, 0, 265611, 166140, 190076, 229104, 389106, 415458], [0, 0, 0, 0, 54954, 72713, 108414, 249696, 288720], [0, 0, 0, 0, 0, 14706, 36828, 145350, 206550], [0, 0, 0, 0, 0, 0, 11286, 69498, 164754], [0, 0, 0, 0, 0, 0, 0, 61446, 161994], [0, 0, 0, 0, 0, 0, 0, 0, 174636], [0, 0, 0, 0, 0, 0, 0, 0, 0]]\n",
      "********\n",
      "{'1,3': 1, '3,6': 4, '6,8': 7, '2,7': 4, '1,7': 4, '1,2': 1, '5,6': 5, '4,6': 4, '1,8': 4, '2,3': 2, '1,6': 4, '4,7': 4, '3,4': 3, '6,7': 6, '2,6': 4, '1,4': 1, '1,5': 4, '2,8': 4, '4,8': 4, '4,5': 4, '3,5': 3, '3,7': 4, '2,4': 2, '2,5': 2, '3,8': 4, '5,8': 7, '7,8': 7, '5,7': 6}\n",
      "*****************\n",
      "498402\n",
      "(M_1*(M_2*(M_3*M_4)))*(((M_5*M_6)*M_7)*M_8)\n"
     ]
    }
   ],
   "source": [
    "d = [66, 87, 71, 43, 18, 19, 33, 98, 54]\n",
    "\n",
    "m, s = matrix_chain_order(d)\n",
    "\n",
    "print(m)\n",
    "print('********')\n",
    "print(s)\n",
    "print('*****************')\n",
    "print(m[1][len(d)-1])\n",
    "texto = get_optimal_parens(s, 1, len(d)-1)\n",
    "print(texto[1:len(texto)-1])"
   ]
  },
  {
   "cell_type": "code",
   "execution_count": 88,
   "metadata": {
    "collapsed": false,
    "deletable": true,
    "editable": true
   },
   "outputs": [
    {
     "name": "stdout",
     "output_type": "stream",
     "text": [
      "{(1, 2): 25}\n"
     ]
    }
   ],
   "source": [
    "d ={}\n",
    "d[1,2] = 25\n",
    "print(d)"
   ]
  }
 ],
 "metadata": {
  "kernelspec": {
   "display_name": "Python [default]",
   "language": "python",
   "name": "python3"
  },
  "language_info": {
   "codemirror_mode": {
    "name": "ipython",
    "version": 3
   },
   "file_extension": ".py",
   "mimetype": "text/x-python",
   "name": "python",
   "nbconvert_exporter": "python",
   "pygments_lexer": "ipython3",
   "version": "3.5.3"
  }
 },
 "nbformat": 4,
 "nbformat_minor": 2
}
