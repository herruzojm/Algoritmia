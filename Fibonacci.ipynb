{
 "cells": [
  {
   "cell_type": "code",
   "execution_count": 1,
   "metadata": {
    "collapsed": true
   },
   "outputs": [],
   "source": [
    "def fibonacci(k, starting_values = None):    \n",
    "    #guarderemos el valor total de la funcion para cada k\n",
    "    generados = []\n",
    "    #creamos los primeros elementos en base a los iniciales\n",
    "    if starting_values:        \n",
    "        for i in range(len(starting_values)):\n",
    "            generados.append(starting_values[i])\n",
    "    else:\n",
    "        for i in range(k):\n",
    "            generados.append(1)\n",
    "    #damos al usuario los primeros que nos da en la invocacion en la funcion\n",
    "    for generado in generados:\n",
    "        yield generado\n",
    "    #y si quiere mas, generamos uno nuevo, lo damos y lo añadimos a los generados\n",
    "    while True:        \n",
    "        generado = sum(generados[-k:])        \n",
    "        yield generado\n",
    "        generados.append(generado)"
   ]
  }
 ],
 "metadata": {
  "kernelspec": {
   "display_name": "Python 3",
   "language": "python",
   "name": "python3"
  },
  "language_info": {
   "codemirror_mode": {
    "name": "ipython",
    "version": 3
   },
   "file_extension": ".py",
   "mimetype": "text/x-python",
   "name": "python",
   "nbconvert_exporter": "python",
   "pygments_lexer": "ipython3",
   "version": "3.6.0"
  }
 },
 "nbformat": 4,
 "nbformat_minor": 2
}
