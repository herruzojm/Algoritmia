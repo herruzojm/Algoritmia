{
 "cells": [
  {
   "cell_type": "code",
   "execution_count": 1,
   "metadata": {
    "collapsed": false
   },
   "outputs": [
    {
     "name": "stdout",
     "output_type": "stream",
     "text": [
      "\r\n",
      "The resultant matrix is:\r\n",
      "\n",
      "            ACCTCACG\n",
      "0         [ 0.  0.  0.  0.  0.  0.  0.  0.  0.]\n",
      "A         [ 0.  1.  1.  1.  1.  1.  1.  1.  1.]\n",
      "C         [ 0.  1.  2.  2.  2.  2.  2.  2.  2.]\n",
      "C         [ 0.  1.  2.  3.  3.  3.  3.  3.  3.]\n",
      "T         [ 0.  1.  2.  3.  4.  4.  4.  4.  4.]\n",
      "C         [ 0.  1.  2.  3.  4.  5.  5.  5.  5.]\n",
      "A         [ 0.  1.  2.  3.  4.  5.  6.  6.  6.]\n",
      "\r\n",
      "Longest common subsequence:\r\n",
      "['A', 'C', 'C', 'T', 'C', 'A']\r\n",
      "\n"
     ]
    }
   ],
   "source": [
    "import numpy as np\n",
    "\n",
    "def longestCommonSubsequence(list1, list2):\n",
    "    s1 = len(list1)\n",
    "    s2 = len(list2)\n",
    "    results = np.zeros((s1 + 1, s2 + 1)) \n",
    "    for i in range(1, s1 + 1):\n",
    "        for j in range(1, s2 + 1):\n",
    "            if (list1[i - 1] == list2[j - 1]):\n",
    "                results[i][j] = results[i - 1][j - 1] + 1\n",
    "            elif (results[i - 1][j] >= results[i][j - 1]):\n",
    "                results[i][j] = results[i - 1][j]\n",
    "            else:\n",
    "                results[i][j] = results[i][j - 1]\n",
    "    return [extractCommonSubsequence(results, list1), results]\n",
    "\n",
    "def extractCommonSubsequence(results, rowList):\n",
    "    lcs = []\n",
    "    i = len(results) - 1\n",
    "    j = len(results[0]) - 1\n",
    "    while((i > 0) and (j > 0) and (results[i][j] > 0)):\n",
    "        c = results[i][j]\n",
    "        u = results[i - 1][j]\n",
    "        l = results[i][j - 1]\n",
    "        ul = results[i - 1][j - 1]\n",
    "        if ((ul >= l) and (ul >= u) and (ul != c)):\n",
    "            lcs.insert(0, rowList[i - 1])\n",
    "            i = i - 1\n",
    "            j = j - 1\n",
    "        elif (u >= l):\n",
    "            i = i -1\n",
    "        else:\n",
    "            j = j - 1\n",
    "    return lcs\n",
    "\n",
    "\n",
    "horizontal = 'ACCTCACG'\n",
    "vertical = 'ACCTCA'\n",
    "\n",
    "[lcs, results] = longestCommonSubsequence(vertical, horizontal)\n",
    "print(\"\\r\\nThe resultant matrix is:\\r\\n\")\n",
    "print((\"%s%s\") % (\" \".ljust(12), str(horizontal)))\n",
    "for i in range(0, len(results)):\n",
    "    rowName = \"0\".ljust(10)\n",
    "    if (i > 0):\n",
    "        rowName = str(vertical[i - 1]).ljust(10)\n",
    "    print((\"%s%s\") % (rowName, str(results[i])))\n",
    "print((\"\\r\\nLongest common subsequence:\\r\\n%s\\r\\n\") % str(lcs))\n"
   ]
  }
 ],
 "metadata": {
  "kernelspec": {
   "display_name": "Python [conda root]",
   "language": "python",
   "name": "conda-root-py"
  },
  "language_info": {
   "codemirror_mode": {
    "name": "ipython",
    "version": 3
   },
   "file_extension": ".py",
   "mimetype": "text/x-python",
   "name": "python",
   "nbconvert_exporter": "python",
   "pygments_lexer": "ipython3",
   "version": "3.5.3"
  }
 },
 "nbformat": 4,
 "nbformat_minor": 2
}
