{
 "cells": [
  {
   "cell_type": "code",
   "execution_count": 1,
   "metadata": {
    "collapsed": true,
    "deletable": true,
    "editable": true
   },
   "outputs": [],
   "source": [
    "def divide_and_conquer_exponential(n):\n",
    "    if n == 1:\n",
    "        return []\n",
    "    elif n%2 == 0:\n",
    "        mitad = int(n/2)\n",
    "        return divide_and_conquer_exponential(mitad) + [(n, mitad, mitad)]\n",
    "    else:\n",
    "        return divide_and_conquer_exponential(n-1) + [(n, n-1, 1)]"
   ]
  },
  {
   "cell_type": "code",
   "execution_count": 2,
   "metadata": {
    "collapsed": false,
    "deletable": true,
    "editable": true
   },
   "outputs": [],
   "source": [
    "def iterative_exponential(n):    \n",
    "    resultado = []\n",
    "    multiplicadores = [1]\n",
    "    exponente = 1\n",
    "    r = 0\n",
    "    while (n >= 1): \n",
    "        if n%2 != 0:\n",
    "            r = r + exponente\n",
    "            if not r in multiplicadores:                \n",
    "                resultado.append((r, exponente, r-exponente))\n",
    "                \n",
    "        multiplicadores.append(2*exponente)\n",
    "        resultado.append((2*exponente, exponente, exponente))\n",
    "        exponente = exponente*2\n",
    "        n=int(n/2)        \n",
    "    resultado.pop()\n",
    "    return resultado"
   ]
  },
  {
   "cell_type": "code",
   "execution_count": 10,
   "metadata": {
    "collapsed": false,
    "deletable": true,
    "editable": true
   },
   "outputs": [],
   "source": [
    "class HanoiTower:            \n",
    "\n",
    "    def solve(self, destin=3):\n",
    "        movimientos = []\n",
    "        \n",
    "        if (len(self._discos) == len(self._postes[destin-1])):\n",
    "            return []\n",
    "                               \n",
    "        if len(self._discos)>0:\n",
    "            hanoi = HanoiTower(self._discos[0:len(self._discos)-1])\n",
    "            origen = self._discos[-1]\n",
    "            #Si el disco no esta en el destino...\n",
    "            if (origen != destin):\n",
    "                #movemos el resto al palo auxiliar...\n",
    "                auxiliar = 6 - origen - destin                                                                                           \n",
    "                movimientos = movimientos + hanoi.solve(auxiliar)               \n",
    "                #y movemos el disco al palo destino\n",
    "                movimientos.append((origen, destino))\n",
    "            \n",
    "            #luego movemos el resto de discos al destino\n",
    "            movimientos = movimientos + hanoi.solve(destino)            \n",
    "            self.do_movements(movimientos)\n",
    "            \n",
    "        return movimientos\n",
    "                  "
   ]
  }
 ],
 "metadata": {
  "anaconda-cloud": {},
  "kernelspec": {
   "display_name": "Python 3",
   "language": "python",
   "name": "python3"
  },
  "language_info": {
   "codemirror_mode": {
    "name": "ipython",
    "version": 3
   },
   "file_extension": ".py",
   "mimetype": "text/x-python",
   "name": "python",
   "nbconvert_exporter": "python",
   "pygments_lexer": "ipython3",
   "version": "3.6.0"
  }
 },
 "nbformat": 4,
 "nbformat_minor": 1
}
