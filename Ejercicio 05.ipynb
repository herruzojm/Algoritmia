{
 "cells": [
  {
   "cell_type": "code",
   "execution_count": 9,
   "metadata": {
    "collapsed": false,
    "deletable": true,
    "editable": true
   },
   "outputs": [],
   "source": [
    "class BackpackObject:    \n",
    "    def __init__(self, weight, value):\n",
    "        self._peso = weight\n",
    "        self._valor = value\n",
    "\n",
    "    def weight(self):\n",
    "        return self._peso\n",
    "\n",
    "    def value(self):\n",
    "        return self._valor\n",
    "\n",
    "    def weighted_value(self):        \n",
    "        return self.value()/self.weight()\n",
    "    \n",
    "    def __eq__(self, other):\n",
    "        if (isinstance(other, BackpackObject)):\n",
    "            return (self.weight() == other.weight() and self.value() == other.value())\n",
    "        else:\n",
    "            return False        \n",
    "    \n",
    "    def __lt__(self, other):\n",
    "        return self.weighted_value() < other.weighted_value()\n",
    "    \n",
    "    def __le__(self, other):\n",
    "        return self < other or self == other\n",
    "    \n",
    "    def __add__(self, other):\n",
    "        return BackpackObject(self.weight() + other.weight(), self.value() + other.value())\n",
    "    \n",
    "    def __mul__(self, valor):\n",
    "        return BackpackObject(self.weight() * valor, self.value() * valor)\n",
    "    \n",
    "    __rmul__ = __mul__\n",
    "    \n",
    "    def __str__(self):\n",
    "        return '({}, {})'.format(self.weight(), self.value())\n",
    "    \n",
    "    def __repr__(self):\n",
    "        return str(self)\n",
    "    "
   ]
  },
  {
   "cell_type": "code",
   "execution_count": 12,
   "metadata": {
    "collapsed": false,
    "deletable": true,
    "editable": true
   },
   "outputs": [],
   "source": [
    "class Backpack:       \n",
    "    def __init__(self, capacity):\n",
    "        self._objetos = []\n",
    "        self._capacidad = capacity                \n",
    "        \n",
    "    def capacity(self):\n",
    "        return self._capacidad\n",
    "\n",
    "    def weight(self):        \n",
    "        return sum(objeto.weight() for objeto in self._objetos)\n",
    "\n",
    "    def value(self):\n",
    "        return sum(objeto.value() for objeto in self._objetos)\n",
    "\n",
    "    def __len__(self):\n",
    "        return len(self._objetos)\n",
    "\n",
    "    def __contains__(self, objeto):\n",
    "        return objeto in self._objetos\n",
    "\n",
    "    def __getitem__(self, i):\n",
    "        return self._objetos[i]        \n",
    "\n",
    "    def __delitem__(self, i):\n",
    "        self._objetos.pop(i)\n",
    "\n",
    "    def __iadd__(self, obj):\n",
    "        if self.is_full():\n",
    "            return self\n",
    "        \n",
    "        if obj.weight() < self.remaining_capacidad():\n",
    "            self._objetos.append(obj)\n",
    "        else:            \n",
    "            self._objetos.append(obj * (self.remaining_capacidad()/obj.weight()))\n",
    "        \n",
    "        return self\n",
    "    \n",
    "    def is_full(self):        \n",
    "        return (self.weight() >= self.capacity())\n",
    "    \n",
    "    def remaining_capacidad(self):        \n",
    "        return self.capacity() - self.weight()\n",
    "    "
   ]
  },
  {
   "cell_type": "code",
   "execution_count": 18,
   "metadata": {
    "collapsed": false,
    "deletable": true,
    "editable": true
   },
   "outputs": [],
   "source": [
    "def greedy_backpack(weights, values, capacity):  \n",
    "    mochila = Backpack(capacity)    \n",
    "    objetos = sorted([BackpackObject(weights[i], values[i]) for i in range(len(weights))],\n",
    "        key=lambda objeto: objeto.weighted_value())\n",
    "           \n",
    "    while (not mochila.is_full()) and len(objetos) > 0:\n",
    "        mochila += objetos.pop()\n",
    "            \n",
    "    return mochila.weight(), mochila.value()\n"
   ]
  },
  {
   "cell_type": "code",
   "execution_count": 25,
   "metadata": {
    "collapsed": true,
    "deletable": true,
    "editable": true
   },
   "outputs": [],
   "source": [
    "def prim_tree(graph):\n",
    "    \n",
    "    grafo_minimo = list_matrix()\n",
    "    # Obtenemos el primer iterador del grafo y lo damos como visitado\n",
    "    nodos_visitados = [] \n",
    "    nodos_visitados.append(next(iter(graph)))\n",
    "    \n",
    "    while len(grafo_minimo) < len(graph):\n",
    "        proximo_nodo = None\n",
    "        for origen in nodos_visitados:\n",
    "            for destino, distancia in graph.vecinos(origen):\n",
    "                if destino not in nodos_visitados:                    \n",
    "                    if proximo_nodo is None or distancia < proximo_nodo[2]:\n",
    "                        proximo_nodo = [origen, destino, distancia]                        \n",
    "        \n",
    "        if proximo_nodo:\n",
    "            nodos_visitados.append(proximo_nodo[1])\n",
    "            grafo_minimo.inserta(proximo_nodo[0], proximo_nodo[1], proximo_nodo[2])\n",
    "        \n",
    "    return grafo_minimo"
   ]
  }
 ],
 "metadata": {
  "anaconda-cloud": {},
  "kernelspec": {
   "display_name": "Python 3",
   "language": "python",
   "name": "python3"
  },
  "language_info": {
   "codemirror_mode": {
    "name": "ipython",
    "version": 3
   },
   "file_extension": ".py",
   "mimetype": "text/x-python",
   "name": "python",
   "nbconvert_exporter": "python",
   "pygments_lexer": "ipython3",
   "version": "3.6.0"
  }
 },
 "nbformat": 4,
 "nbformat_minor": 1
}
