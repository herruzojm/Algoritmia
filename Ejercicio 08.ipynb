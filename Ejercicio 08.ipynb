{
 "cells": [
  {
   "cell_type": "code",
   "execution_count": 1,
   "metadata": {
    "collapsed": false,
    "deletable": true,
    "editable": true
   },
   "outputs": [],
   "source": [
    "def addends(n):\n",
    "    resultado = []\n",
    "    \n",
    "    lista_sumandos = obtener_sumandos(n)\n",
    "    for sumando in lista_sumandos:\n",
    "        resultado.append( (sumando))\n",
    "    resultado.pop()\n",
    "    \n",
    "    return sorted(resultado)\n",
    "\n",
    "def obtener_sumandos(numero):\n",
    "    if numero == 0:\n",
    "        yield ()\n",
    "        return\n",
    "\n",
    "    for sumando in obtener_sumandos(numero - 1):\n",
    "        yield (1, ) + sumando\n",
    "        if sumando and (len(sumando) < 2 or sumando[1] > sumando[0]):\n",
    "            yield (sumando[0] + 1,) + sumando[1:]  \n",
    "            "
   ]
  },
  {
   "cell_type": "code",
   "execution_count": 3,
   "metadata": {
    "collapsed": false,
    "deletable": true,
    "editable": true
   },
   "outputs": [],
   "source": [
    "def paths(graph, origin, destin):\n",
    "    return obtener_rutas(graph, origin, destin)\n",
    "\n",
    "\n",
    "def obtener_rutas(grafo, origen, destino, ruta=None):\n",
    "    if ruta == None:\n",
    "        ruta = (origen,)\n",
    "    \n",
    "    if ruta[-1] == destino:\n",
    "        yield ruta\n",
    "    \n",
    "    for nodo_vecino, etiqueta in grafo.vecinos(origen):\n",
    "        if nodo_vecino not in ruta:\n",
    "            yield from obtener_rutas(grafo, nodo_vecino, destino, ruta + (nodo_vecino,))"
   ]
  }
 ],
 "metadata": {
  "anaconda-cloud": {},
  "kernelspec": {
   "display_name": "Python 3",
   "language": "python",
   "name": "python3"
  },
  "language_info": {
   "codemirror_mode": {
    "name": "ipython",
    "version": 3
   },
   "file_extension": ".py",
   "mimetype": "text/x-python",
   "name": "python",
   "nbconvert_exporter": "python",
   "pygments_lexer": "ipython3",
   "version": "3.6.0"
  }
 },
 "nbformat": 4,
 "nbformat_minor": 1
}
