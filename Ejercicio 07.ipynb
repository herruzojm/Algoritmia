{
 "cells": [
  {
   "cell_type": "code",
   "execution_count": 9,
   "metadata": {
    "collapsed": false,
    "deletable": true,
    "editable": true
   },
   "outputs": [],
   "source": [
    "import math\n",
    "def heap_representation(heap):\n",
    "    cadena = \"\" #almacenaremos la representacion final    \n",
    "    linea_actual = \"\" #almacenaremos la representacion de la linea actual\n",
    "    numero_linea = 0 #linea que estamos pintando\n",
    "    elementos_en_linea = math.pow(2, numero_linea) #numero de elementos que hay en\n",
    "    #la linea que estamos pintando\n",
    "    numero_elementos = 0 #elementos que llevamos pintados en la linea actual\n",
    "    \n",
    "    #calculamos previamente en que posicion se encuentra cada elemento\n",
    "    espacios = calcula_espacios(heap, 0, 0, [0]*len(heap))[0]        \n",
    "        \n",
    "    #recorremos los elementos\n",
    "    for indice in range(0, len(heap)):\n",
    "        #pintamos cada elemento en la posicion previamente calculada\n",
    "        linea_actual = linea_actual + \" \"*(espacios[indice]-len(linea_actual)) + str(heap[indice])\n",
    "        numero_elementos += 1\n",
    "        #si hemos terminado de pintar los elementos de la linea\n",
    "        if numero_elementos == elementos_en_linea:\n",
    "            #reseteamos las variables para pintar la siguiente linea y añadimos la linea\n",
    "            #a la representacion general\n",
    "            numero_elementos = 0\n",
    "            numero_linea += 1\n",
    "            elementos_en_linea = math.pow(2, numero_linea)                 \n",
    "            cadena = cadena + linea_actual\n",
    "            linea_actual = \"\"\n",
    "            #si no estamos al final del monticulo, añadimos el salto de lina\n",
    "            if indice < len(heap)-1:\n",
    "                cadena = cadena + \"\\n\"\n",
    "                     \n",
    "    #si la ultima linea no esta completa, debemos añadir los elementos\n",
    "    if numero_elementos != elementos_en_linea:\n",
    "        cadena = cadena + linea_actual\n",
    "        \n",
    "    return cadena\n",
    "\n",
    "\n",
    "def calcula_espacios(monticulo, indice, longitud, espacios):\n",
    "    if indice < len(monticulo):\n",
    "        espacios, longitud = calcula_espacios(monticulo, indice*2 + 1, longitud, espacios)\n",
    "        espacios[indice] =  longitud \n",
    "        longitud = longitud + len(str(monticulo[indice]))\n",
    "        espacios, longitud = calcula_espacios(monticulo, indice*2 + 2, longitud, espacios)\n",
    "        \n",
    "    return espacios, longitud"
   ]
  },
  {
   "cell_type": "code",
   "execution_count": 16,
   "metadata": {
    "collapsed": false,
    "deletable": true,
    "editable": true
   },
   "outputs": [],
   "source": [
    "def heap_positions(heap):\n",
    "    return in_orden(heap, 0, 0, 1, [0]*len(heap))[0]\n",
    "\n",
    "\n",
    "def in_orden(monticulo, indice, profundidad, posicion_actual, posiciones):\n",
    "    if indice < len(monticulo):\n",
    "        posiciones, posicion_actual = in_orden(monticulo, indice*2 + 1, profundidad+1, posicion_actual, posiciones)\n",
    "        posiciones[indice] = (posicion_actual, profundidad)\n",
    "        posicion_actual = posicion_actual + 1\n",
    "        posiciones, posicion_actual = in_orden(monticulo, indice*2 + 2, profundidad+1, posicion_actual, posiciones)\n",
    "        \n",
    "    return posiciones, posicion_actual"
   ]
  }
 ],
 "metadata": {
  "anaconda-cloud": {},
  "kernelspec": {
   "display_name": "Python 3",
   "language": "python",
   "name": "python3"
  },
  "language_info": {
   "codemirror_mode": {
    "name": "ipython",
    "version": 3
   },
   "file_extension": ".py",
   "mimetype": "text/x-python",
   "name": "python",
   "nbconvert_exporter": "python",
   "pygments_lexer": "ipython3",
   "version": "3.6.0"
  }
 },
 "nbformat": 4,
 "nbformat_minor": 1
}
