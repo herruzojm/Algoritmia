{
 "cells": [
  {
   "cell_type": "code",
   "execution_count": 1,
   "metadata": {
    "collapsed": false
   },
   "outputs": [],
   "source": [
    "from collections import defaultdict, deque\n",
    "import operator\n",
    "\n",
    "class Graph(object):\n",
    "    def __init__(self):\n",
    "        self.nodes = set()\n",
    "        self.edges = defaultdict(list)\n",
    "        self.distances = {}\n",
    "\n",
    "    def add_node(self, value):\n",
    "        self.nodes.add(value)\n",
    "\n",
    "    def add_edge(self, from_node, to_node, distance):\n",
    "        self.edges[from_node].append(to_node)\n",
    "        self.edges[to_node].append(from_node)\n",
    "        self.distances[(from_node, to_node)] = distance\n",
    "\n",
    "\n",
    "def dijkstra(graph, initial):\n",
    "    visited = {initial: 0}\n",
    "    path = {}\n",
    "\n",
    "    nodes = set(graph.nodes)\n",
    "\n",
    "    while nodes:\n",
    "        min_node = None\n",
    "        for node in nodes:\n",
    "            if node in visited:\n",
    "                if min_node is None:\n",
    "                    min_node = node\n",
    "                elif visited[node] < visited[min_node]:\n",
    "                    min_node = node\n",
    "        if min_node is None:\n",
    "            break\n",
    "\n",
    "        nodes.remove(min_node)\n",
    "        current_weight = visited[min_node]\n",
    "\n",
    "        for edge in graph.edges[min_node]:\n",
    "            try:\n",
    "                weight = current_weight + graph.distances[(min_node, edge)]\n",
    "            except:\n",
    "                continue\n",
    "            if edge not in visited or weight < visited[edge]:\n",
    "                visited[edge] = weight\n",
    "                path[edge] = min_node\n",
    "\n",
    "    return visited, path\n",
    "\n",
    "\n",
    "def shortest_path(graph, origin, destination):\n",
    "    visited, paths = dijkstra(graph, origin)\n",
    "    full_path = deque()\n",
    "    _destination = paths[destination]\n",
    "\n",
    "    while _destination != origin:\n",
    "        full_path.appendleft(_destination)\n",
    "        _destination = paths[_destination]\n",
    "\n",
    "    full_path.appendleft(origin)\n",
    "    full_path.append(destination)\n",
    "\n",
    "    return visited[destination], list(full_path)\n",
    "\n",
    "\n"
   ]
  },
  {
   "cell_type": "code",
   "execution_count": 2,
   "metadata": {
    "collapsed": false
   },
   "outputs": [],
   "source": [
    "graph = Graph()\n",
    "\n",
    "for node in ['A', 'B', 'C', 'D', 'E', 'F', 'G', 'H', 'I', 'J']:\n",
    "    graph.add_node(node)\n",
    "\n",
    "graph.add_edge('A', 'B', 1)\n",
    "graph.add_edge('A', 'F', 9)\n",
    "graph.add_edge('A', 'I', 10)\n",
    "graph.add_edge('B', 'A', 1)\n",
    "graph.add_edge('B', 'I', 4)\n",
    "graph.add_edge('B', 'J', 4)\n",
    "graph.add_edge('C', 'F', 8)\n",
    "graph.add_edge('C', 'J', 9)\n",
    "graph.add_edge('D', 'H', 3)\n",
    "graph.add_edge('E', 'H', 7)\n",
    "graph.add_edge('E', 'J', 3)\n",
    "graph.add_edge('F', 'A', 9)\n",
    "graph.add_edge('F', 'C', 8)\n",
    "graph.add_edge('F', 'G', 8)\n",
    "graph.add_edge('F', 'H', 10)\n",
    "graph.add_edge('F', 'J', 9)\n",
    "graph.add_edge('G', 'F', 8)\n",
    "graph.add_edge('G', 'I', 2)\n",
    "graph.add_edge('H', 'D', 3)\n",
    "graph.add_edge('H', 'E', 7)\n",
    "graph.add_edge('H', 'F', 10)\n",
    "graph.add_edge('H', 'J', 2)\n",
    "graph.add_edge('I', 'A', 10)\n",
    "graph.add_edge('I', 'B', 4)\n",
    "graph.add_edge('I', 'G', 2)\n",
    "graph.add_edge('I', 'J', 3)\n",
    "graph.add_edge('J', 'B', 4)\n",
    "graph.add_edge('J', 'C', 9)\n",
    "graph.add_edge('J', 'E', 3)\n",
    "graph.add_edge('J', 'F', 9)\n",
    "graph.add_edge('J', 'H', 2)\n",
    "graph.add_edge('J', 'I', 3)\n",
    "\n"
   ]
  },
  {
   "cell_type": "code",
   "execution_count": 3,
   "metadata": {
    "collapsed": false
   },
   "outputs": [],
   "source": [
    "from collections import defaultdict\n",
    "from heapq import *\n",
    " \n",
    "def prim( nodes, edges ):\n",
    "    conn = defaultdict( list )\n",
    "    for n1,n2,c in edges:\n",
    "        conn[ n1 ].append( (c, n1, n2) )\n",
    "        conn[ n2 ].append( (c, n2, n1) )\n",
    " \n",
    "    mst = []\n",
    "    used = set( nodes[ 0 ] )\n",
    "    usable_edges = conn[ nodes[0] ][:]\n",
    "    heapify( usable_edges )\n",
    " \n",
    "    while usable_edges:\n",
    "        cost, n1, n2 = heappop( usable_edges )\n",
    "        if n2 not in used:\n",
    "            used.add( n2 )\n",
    "            mst.append( ( n2, n1, cost ) )\n",
    " \n",
    "            for e in conn[ n2 ]:\n",
    "                if e[ 2 ] not in used:\n",
    "                    heappush( usable_edges, e )\n",
    "    return mst\n",
    " "
   ]
  },
  {
   "cell_type": "code",
   "execution_count": 4,
   "metadata": {
    "collapsed": false
   },
   "outputs": [
    {
     "name": "stdout",
     "output_type": "stream",
     "text": [
      "dijkstra\n",
      "nodo B predecesor A peso del arco 1\n",
      "nodo I predecesor B peso del arco 5\n",
      "nodo J predecesor B peso del arco 5\n",
      "nodo G predecesor I peso del arco 7\n",
      "nodo H predecesor J peso del arco 7\n",
      "nodo E predecesor J peso del arco 8\n",
      "nodo F predecesor A peso del arco 9\n",
      "nodo D predecesor H peso del arco 10\n",
      "nodo C predecesor J peso del arco 14\n"
     ]
    }
   ],
   "source": [
    "print('dijkstra')\n",
    "visited, paths = dijkstra(graph, 'A')\n",
    "resultado = []\n",
    "for nodo, coste in visited.items():\n",
    "    if nodo in paths:\n",
    "        resultado.append((nodo, paths[nodo], coste) )\n",
    "\n",
    "resultado = sorted(resultado, key=operator.itemgetter(2,1))\n",
    "for nodos in resultado:\n",
    "    print('nodo', nodos[0], 'predecesor', nodos[1], 'peso del arco', nodos[2])\n"
   ]
  },
  {
   "cell_type": "code",
   "execution_count": 5,
   "metadata": {
    "collapsed": false
   },
   "outputs": [],
   "source": [
    "#test\n",
    "edges = [ (\"A\", \"D\", 9), \n",
    "         (\"B\", \"C\", 10), \n",
    "         (\"B\", \"D\", 4), \n",
    "         (\"B\", \"H\", 2), \n",
    "         (\"C\", \"B\", 10),\n",
    "         (\"C\", \"F\", 7),\n",
    "         (\"C\", \"G\", 3), \n",
    "         (\"C\", \"H\", 9),\n",
    "         (\"D\", \"A\", 9), \n",
    "         (\"D\", \"B\", 4),\n",
    "         (\"D\", \"E\", 4),\n",
    "         (\"D\", \"F\", 8),\n",
    "         (\"D\", \"J\", 7),\n",
    "         (\"E\", \"D\", 4),\n",
    "         (\"E\", \"G\", 7),\n",
    "         (\"F\", \"C\", 7),\n",
    "         (\"F\", \"D\", 8),\n",
    "         (\"F\", \"H\", 10),\n",
    "         (\"G\", \"C\", 3),\n",
    "         (\"G\", \"E\", 7),\n",
    "         (\"G\", \"H\", 10),\n",
    "         (\"G\", \"I\", 2),\n",
    "         (\"G\", \"J\", 9),\n",
    "         (\"H\", \"B\", 2),\n",
    "         (\"H\", \"C\", 9),\n",
    "         (\"H\", \"F\", 10),\n",
    "         (\"H\", \"G\", 10),\n",
    "         (\"H\", \"J\", 5),\n",
    "         (\"I\", \"G\", 2),\n",
    "         (\"J\", \"D\", 7),\n",
    "         (\"J\", \"G\", 9),\n",
    "         (\"J\", \"H\", 5)\n",
    "        ]\n"
   ]
  },
  {
   "cell_type": "code",
   "execution_count": 6,
   "metadata": {
    "collapsed": false
   },
   "outputs": [
    {
     "name": "stdout",
     "output_type": "stream",
     "text": [
      "PRIM\n",
      "nodo D predecesor A peso del arco 9\n",
      "nodo B predecesor D peso del arco 4\n",
      "nodo H predecesor B peso del arco 2\n",
      "nodo E predecesor D peso del arco 4\n",
      "nodo J predecesor H peso del arco 5\n",
      "nodo G predecesor E peso del arco 7\n",
      "nodo I predecesor G peso del arco 2\n",
      "nodo C predecesor G peso del arco 3\n",
      "nodo F predecesor C peso del arco 7\n"
     ]
    }
   ],
   "source": [
    "print (\"PRIM\")\n",
    "nodes = list(\"ABCDEFGHIJ\")\n",
    "#edges = []\n",
    "#for nodos, distancia in graph.distances.items():\n",
    "#    edges.append((nodos[0], nodos[1], distancia))\n",
    "\n",
    "resultado = prim(nodes, edges)    \n",
    "for nodos in resultado:\n",
    "    print('nodo', nodos[0], 'predecesor', nodos[1], 'peso del arco', nodos[2])"
   ]
  }
 ],
 "metadata": {
  "kernelspec": {
   "display_name": "Python [default]",
   "language": "python",
   "name": "python3"
  },
  "language_info": {
   "codemirror_mode": {
    "name": "ipython",
    "version": 3
   },
   "file_extension": ".py",
   "mimetype": "text/x-python",
   "name": "python",
   "nbconvert_exporter": "python",
   "pygments_lexer": "ipython3",
   "version": "3.5.3"
  }
 },
 "nbformat": 4,
 "nbformat_minor": 2
}
