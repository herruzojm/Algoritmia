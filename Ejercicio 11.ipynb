{
 "cells": [
  {
   "cell_type": "code",
   "execution_count": 9,
   "metadata": {
    "collapsed": false,
    "deletable": true,
    "editable": true
   },
   "outputs": [],
   "source": [
    "class ConjunctiveNormalForm:\n",
    "        \n",
    "    def __init__(self, *clauses):\n",
    "        self.numero_variables = 0\n",
    "        self.longitud = 0\n",
    "        self.clausulas = []\n",
    "        self.variables = set([])\n",
    "        if clauses:\n",
    "            self.insert(*clauses)\n",
    "        \n",
    "    def variable_count(self):\n",
    "        return len(self.variables)\n",
    "\n",
    "    def __len__(self):\n",
    "        return len(self.clausulas) #self.longitud\n",
    "\n",
    "    def insert(self, *clauses):\n",
    "        for clausula in clauses:\n",
    "            self.clausulas.append(clausula)\n",
    "            self.longitud += 1\n",
    "            \n",
    "            for positivas in clausula[0]: \n",
    "                self.variables.add(positivas)\n",
    "                \n",
    "            for negativas in clausula[1]:    \n",
    "                self.variables.add(negativas)\n",
    "                \n",
    "            \n",
    "    def __getitem__(self, i):\n",
    "        return self.clausulas[i]\n",
    "        \n",
    "    def evalue(self, truth):        \n",
    "        #Para que la expresion sea cierta, todas las clausualas deben ser ciertas\n",
    "        for clausula in self.clausulas:\n",
    "            #Si el conjunto de las ciertas y las clausulas positivas es cero\n",
    "            #es porque no tienen ninguna en comun: todas las variables positivas\n",
    "            #estan negadas\n",
    "            if len(set(clausula[0]).intersection(truth)) == 0:\n",
    "                #En dicho caso, comprobamos con las variables negativas. \n",
    "                #Si la longitud de la union es igual a longitud de las clausulas negativas\n",
    "                #es porque todas aparecen como positivas, haciendo falsa la expresion\n",
    "                #Si la longitud es distinta, alguna variable negada esta como falsa, \n",
    "                #haciendo verdadera la clausula\n",
    "                if len(set(clausula[1]).intersection(truth)) == len(clausula[1]):\n",
    "                    return False\n",
    "                        \n",
    "        return True\n",
    "\n",
    "    def satisfiable(self):               \n",
    "        resultado = []\n",
    "        "
   ]
  },
  {
   "cell_type": "code",
   "execution_count": 15,
   "metadata": {
    "collapsed": false,
    "deletable": true,
    "editable": true
   },
   "outputs": [],
   "source": [
    "import networkx as nx\n",
    "\n",
    "def reduction_to_clique(fnc):\n",
    "    resultado = []    \n",
    "    for i in range(len(fnc)):\n",
    "        clausula_actual = fnc[i]\n",
    "        for j in range(i+1, len(fnc)):\n",
    "            if i!=j:\n",
    "                clausula_destino = fnc[j]\n",
    "                for positiva_origen in clausula_actual[0]:\n",
    "                    for positiva_destino in clausula_destino[0]:\n",
    "                        resultado.append([(str(i)+':'+positiva_origen), (str(j)+':'+positiva_destino)])\n",
    "                    for negativa_destino in clausula_destino[1]:\n",
    "                        if positiva_origen != negativa_destino:\n",
    "                            resultado.append([(str(i)+':'+positiva_origen),(str(j)+':!'+negativa_destino)])\n",
    "    \n",
    "                for negativa_origen in clausula_actual[1]:\n",
    "                    for negativa_destino in clausula_destino[1]:\n",
    "                        resultado.append([(str(i)+':!'+negativa_origen),(str(j)+':!'+negativa_destino)])\n",
    "                    for positiva_destino in clausula_destino[0]:\n",
    "                        if negativa_origen != positiva_destino:\n",
    "                            resultado.append([(str(i)+':!'+negativa_origen), (str(j)+':'+positiva_destino)])\n",
    "    \n",
    "    return nx.Graph(resultado)"
   ]
  },
  {
   "cell_type": "code",
   "execution_count": 18,
   "metadata": {
    "collapsed": true,
    "deletable": true,
    "editable": true
   },
   "outputs": [],
   "source": [
    "def graphs_are_equals(g1, g2):\n",
    "   \n",
    "    if set(g1.nodes()) != set(g2.nodes()):\n",
    "        return False\n",
    "      \n",
    "    for a, b in [(g1, g2), (g2, g1)]:\n",
    "        for u, v in a.edges_iter():\n",
    "            if not b.has_edge(u, v):\n",
    "                return False\n",
    "            \n",
    "    return True"
   ]
  }
 ],
 "metadata": {
  "anaconda-cloud": {},
  "kernelspec": {
   "display_name": "Python 3",
   "language": "python",
   "name": "python3"
  },
  "language_info": {
   "codemirror_mode": {
    "name": "ipython",
    "version": 3
   },
   "file_extension": ".py",
   "mimetype": "text/x-python",
   "name": "python",
   "nbconvert_exporter": "python",
   "pygments_lexer": "ipython3",
   "version": "3.6.0"
  }
 },
 "nbformat": 4,
 "nbformat_minor": 1
}
