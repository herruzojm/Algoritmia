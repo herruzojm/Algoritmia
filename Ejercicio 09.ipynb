{
 "cells": [
  {
   "cell_type": "code",
   "execution_count": 1,
   "metadata": {
    "collapsed": false,
    "deletable": true,
    "editable": true
   },
   "outputs": [],
   "source": [
    "def longest_increasing_subsequence(x, y):    \n",
    "    longitudes = [[0 for j in range(len(y)+1)] for i in range(len(x)+1)]\n",
    "    \n",
    "    for x_index, x_letra in enumerate(x):\n",
    "        for y_index, y_letra in enumerate(y):\n",
    "            if x_letra == y_letra:\n",
    "                longitudes[x_index+1][y_index+1] = longitudes[x_index][y_index]+1\n",
    "            else:\n",
    "                longitudes[x_index+1][y_index+1] = max(longitudes[x_index+1][y_index], longitudes[x_index][y_index+1])\n",
    "\n",
    "    resultado = \"\"            \n",
    "    longitud_x = len(x)\n",
    "    longitud_y = len(y)\n",
    "    \n",
    "    while longitud_x != 0 and longitud_y !=0:\n",
    "        if longitudes[longitud_x][longitud_y] == longitudes[longitud_x-1][longitud_y]:\n",
    "            longitud_x -= 1\n",
    "        elif longitudes[longitud_x][longitud_y] == longitudes[longitud_x][longitud_y-1]:\n",
    "            longitud_y -= 1\n",
    "        else:\n",
    "            resultado = x[longitud_x-1] + resultado\n",
    "            longitud_x -= 1\n",
    "            longitud_y -= 1\n",
    "\n",
    "    return resultado\n",
    "    "
   ]
  },
  {
   "cell_type": "code",
   "execution_count": 3,
   "metadata": {
    "collapsed": true,
    "deletable": true,
    "editable": true
   },
   "outputs": [],
   "source": [
    "def matrix_multiplication(dimensions):        \n",
    "    n = len (dimensions) -1\n",
    "    \n",
    "    matriz = [[0 for i in range (n +1) ] for i in range (n+1) ]\n",
    "    camino_minimo = {}\n",
    "    \n",
    "    for d in range (1, n):\n",
    "        for i in range (1, n-d+1) :        \n",
    "            for k in range (i, i + d):\n",
    "                producto = matriz[i][k] + matriz[k+1][i+d] + dimensions[i -1] * dimensions[k]*dimensions[i+d]\n",
    "                if k==i or producto < minimo :\n",
    "                    minimo = producto\n",
    "                    camino_minimo[i,i+d] = k                    \n",
    "            matriz[i][i+d]= minimo\n",
    "                \n",
    "    formula = crear_formula(camino_minimo, 1, n)\n",
    "    return matriz[1][n], formula[1: len(formula)-1]\n",
    "\n",
    "def crear_formula(s, i, j):\n",
    "    formula = ''\n",
    "    if i == j:\n",
    "        return \"M_\" + str(j)\n",
    "    else:\n",
    "        formula += \"(\"\n",
    "        formula += crear_formula(s, i, s[i,j]) + \"*\"\n",
    "        formula += crear_formula(s, s[i,j] + 1, j)\n",
    "        formula +=  \")\"\n",
    "        return formula"
   ]
  }
 ],
 "metadata": {
  "anaconda-cloud": {},
  "kernelspec": {
   "display_name": "Python 3",
   "language": "python",
   "name": "python3"
  },
  "language_info": {
   "codemirror_mode": {
    "name": "ipython",
    "version": 3
   },
   "file_extension": ".py",
   "mimetype": "text/x-python",
   "name": "python",
   "nbconvert_exporter": "python",
   "pygments_lexer": "ipython3",
   "version": "3.6.0"
  }
 },
 "nbformat": 4,
 "nbformat_minor": 1
}
