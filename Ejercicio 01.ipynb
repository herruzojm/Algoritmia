{
 "cells": [
  {
   "cell_type": "markdown",
   "metadata": {
    "deletable": true,
    "editable": true
   },
   "source": [
    "### `iterador que devuelve uno a uno los resultados, sustituyendolos segun las especificaciones de un diccionario`"
   ]
  },
  {
   "cell_type": "code",
   "execution_count": 1,
   "metadata": {
    "collapsed": true,
    "deletable": true,
    "editable": true
   },
   "outputs": [],
   "source": [
    "def iterator_with_dictionary_of_changes(iterator, dictionary):    \n",
    "    yield from (value if value not in dictionary else dictionary[value] for value in iterator)"
   ]
  },
  {
   "cell_type": "markdown",
   "metadata": {
    "deletable": true,
    "editable": true
   },
   "source": [
    "### `iterador que genera valores de forma recursiva o solo uno si el elemento no es iterable `"
   ]
  },
  {
   "cell_type": "code",
   "execution_count": 2,
   "metadata": {
    "collapsed": false,
    "deletable": true,
    "editable": true
   },
   "outputs": [],
   "source": [
    "import collections\n",
    "def recursive_iterator(element):\n",
    "    if not isinstance(element, collections.Iterable):        \n",
    "        yield element\n",
    "    else:\n",
    "        for value in element:\n",
    "            yield from recursive_iterator(value)   \n",
    "    return\n",
    "    "
   ]
  },
  {
   "cell_type": "markdown",
   "metadata": {
    "deletable": true,
    "editable": true
   },
   "source": [
    "### `generador del valor medio de los X numeros de un iterable`"
   ]
  },
  {
   "cell_type": "code",
   "execution_count": 3,
   "metadata": {
    "collapsed": false,
    "deletable": true,
    "editable": true
   },
   "outputs": [],
   "source": [
    "def iterator_mean_generator(iterator, x_len):        \n",
    "    yield from (sum(iterator[index-x_len+1:index+1])/x_len for index,value in enumerate(iterator) if index>=x_len-1)\n",
    "           "
   ]
  },
  {
   "cell_type": "markdown",
   "metadata": {
    "deletable": true,
    "editable": true
   },
   "source": [
    "### `comprueba si los elementos de un iterador estan dentro de otro operador en el mismo orden`"
   ]
  },
  {
   "cell_type": "code",
   "execution_count": 4,
   "metadata": {
    "collapsed": false,
    "deletable": true,
    "editable": true
   },
   "outputs": [],
   "source": [
    "def recursive_iterator(iterator_1, iterator_2):   \n",
    "    previous_index = -1    \n",
    "    for a, a_value in enumerate(iterator_1):\n",
    "        exists = False\n",
    "        for b, b_value in enumerate(iterator_2):\n",
    "            if a_value == b_value:\n",
    "                if b > previous_index:\n",
    "                    previous_index = b\n",
    "                    exists = True\n",
    "                    break   \n",
    "        if not exists:\n",
    "            break\n",
    "    return exists"
   ]
  }
 ],
 "metadata": {
  "anaconda-cloud": {},
  "kernelspec": {
   "display_name": "Python 3",
   "language": "python",
   "name": "python3"
  },
  "language_info": {
   "codemirror_mode": {
    "name": "ipython",
    "version": 3
   },
   "file_extension": ".py",
   "mimetype": "text/x-python",
   "name": "python",
   "nbconvert_exporter": "python",
   "pygments_lexer": "ipython3",
   "version": "3.6.0"
  }
 },
 "nbformat": 4,
 "nbformat_minor": 1
}
